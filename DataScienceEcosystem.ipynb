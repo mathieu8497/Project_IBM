{
 "cells": [
  {
   "cell_type": "markdown",
   "id": "06e730d4-784f-45c1-828e-5166a0952f1a",
   "metadata": {},
   "source": [
    "# Data Science Tools"
   ]
  },
  {
   "cell_type": "markdown",
   "id": "8b9f05f4-8900-4265-b719-494036b8ae6c",
   "metadata": {},
   "source": [
    "In this notebook, Data Science Tools and Ecosystem are summarized"
   ]
  },
  {
   "cell_type": "markdown",
   "id": "ec538c85-b52c-494b-b18a-a66625f24791",
   "metadata": {},
   "source": [
    "**Objectives:**\n"
   ]
  },
  {
   "cell_type": "markdown",
   "id": "590c74a8-e1cb-4889-8ff7-04984e6291a5",
   "metadata": {
    "tags": []
   },
   "source": [
    "- List popular languages for Data Science\n",
    "- List commonly used libraries for Data Science\n",
    "- Make simple arithmetic expression\n",
    "- Make tables"
   ]
  },
  {
   "cell_type": "markdown",
   "id": "cbb440f2-b53a-4615-8b25-c58b49ce5db4",
   "metadata": {},
   "source": [
    "Some of the popular languages that Data Scientists use are:"
   ]
  },
  {
   "cell_type": "markdown",
   "id": "98409735-4003-4470-88c4-c5bfd440e437",
   "metadata": {},
   "source": [
    "1. Python\n",
    "2. R\n",
    "3. SQL"
   ]
  },
  {
   "cell_type": "markdown",
   "id": "e917cd43-cb84-40e6-83cc-52ff1704e659",
   "metadata": {},
   "source": [
    "Some of the commonly used libraries used by Data Scientists include:"
   ]
  },
  {
   "cell_type": "markdown",
   "id": "be3a25a0-510e-43a3-ba9a-5d5bf456eeb7",
   "metadata": {
    "tags": []
   },
   "source": [
    "1. Pandas\n",
    "2. Matplotlib\n",
    "3. Tensorflow\n",
    "4. Seaborn"
   ]
  },
  {
   "cell_type": "markdown",
   "id": "785936b3-7f78-41f4-8b8e-a74eb41ee345",
   "metadata": {},
   "source": [
    "| Data Science Tools |\n",
    "------------------------\n",
    "Visual Studio Code\n",
    "RStudio\n",
    "Jupyter Notebook"
   ]
  },
  {
   "cell_type": "markdown",
   "id": "979b0391-6d35-43ee-a183-0748633d6826",
   "metadata": {},
   "source": [
    "### Below are a few examples of evaluating arithmetic expressions in Python"
   ]
  },
  {
   "cell_type": "code",
   "execution_count": 6,
   "id": "0698b2f8-28a9-483b-96c5-a3bb87285883",
   "metadata": {
    "tags": []
   },
   "outputs": [
    {
     "data": {
      "text/plain": [
       "17"
      ]
     },
     "execution_count": 6,
     "metadata": {},
     "output_type": "execute_result"
    }
   ],
   "source": [
    "# This a simple arithmetic expression to mutiply then add integers\n",
    "(3*4)+5"
   ]
  },
  {
   "cell_type": "code",
   "execution_count": 7,
   "id": "96fcf905-a725-49aa-8a1c-41cd8eb9d377",
   "metadata": {
    "tags": []
   },
   "outputs": [
    {
     "data": {
      "text/plain": [
       "3.3333333333333335"
      ]
     },
     "execution_count": 7,
     "metadata": {},
     "output_type": "execute_result"
    }
   ],
   "source": [
    "# This will convert 200 minutes to hours by diving by 60\n",
    "200/60"
   ]
  },
  {
   "cell_type": "markdown",
   "id": "956b5235-8163-41d7-b460-01fa5b45db96",
   "metadata": {},
   "source": [
    "## Author"
   ]
  },
  {
   "cell_type": "markdown",
   "id": "53b43415-4ce4-4149-9711-3f31a2d2d3af",
   "metadata": {},
   "source": [
    "Mathieu POIREL"
   ]
  }
 ],
 "metadata": {
  "kernelspec": {
   "display_name": "Python",
   "language": "python",
   "name": "conda-env-python-py"
  },
  "language_info": {
   "codemirror_mode": {
    "name": "ipython",
    "version": 3
   },
   "file_extension": ".py",
   "mimetype": "text/x-python",
   "name": "python",
   "nbconvert_exporter": "python",
   "pygments_lexer": "ipython3",
   "version": "3.7.12"
  }
 },
 "nbformat": 4,
 "nbformat_minor": 5
}
